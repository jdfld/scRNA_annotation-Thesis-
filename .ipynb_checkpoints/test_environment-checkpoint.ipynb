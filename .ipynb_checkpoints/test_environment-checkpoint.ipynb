{
 "cells": [
  {
   "cell_type": "markdown",
   "id": "503ad6de-a167-4470-940f-11b1519d2933",
   "metadata": {},
   "source": [
    "### Imports "
   ]
  },
  {
   "cell_type": "code",
   "execution_count": 47,
   "id": "2d465a3c-f2ed-4186-90b0-6bff98a44fe1",
   "metadata": {},
   "outputs": [],
   "source": [
    "import model \n",
    "import data_proc_methods as dp\n",
    "from importlib import reload \n",
    "import scanpy as sc\n",
    "import torch\n",
    "from sklearn.metrics import accuracy_score\n",
    "from collections import Counter"
   ]
  },
  {
   "cell_type": "code",
   "execution_count": 48,
   "id": "8fcd686f-fcc7-4283-8ccd-6ee884a28f54",
   "metadata": {},
   "outputs": [],
   "source": [
    "import numpy as np"
   ]
  },
  {
   "cell_type": "code",
   "execution_count": 56,
   "id": "ccd1cf38-d16b-4933-b4f9-6f0d3fe57ed4",
   "metadata": {},
   "outputs": [],
   "source": [
    "from importlib import reload"
   ]
  },
  {
   "cell_type": "code",
   "execution_count": 58,
   "id": "a93a8642-a03d-46d3-803d-e4e7c03b4835",
   "metadata": {},
   "outputs": [
    {
     "data": {
      "text/plain": [
       "<module 'data_proc_methods' from '/Users/fredrikstrom/Documents/KTH Dokument/scRNA_annotation-Thesis-/data_proc_methods.py'>"
      ]
     },
     "execution_count": 58,
     "metadata": {},
     "output_type": "execute_result"
    }
   ],
   "source": [
    "reload(dp)"
   ]
  },
  {
   "cell_type": "markdown",
   "id": "de98ae35-8762-4d8f-8ed3-cf0148fabef0",
   "metadata": {},
   "source": [
    "### Load data "
   ]
  },
  {
   "cell_type": "code",
   "execution_count": 4,
   "id": "4733e1e7-3905-4410-b065-d9e4eb05f312",
   "metadata": {},
   "outputs": [],
   "source": [
    "adata = dp.load_data('subchunk1_1.h5ad')"
   ]
  },
  {
   "cell_type": "code",
   "execution_count": 6,
   "id": "20d60541-2e0d-4632-b082-17c3fa7f00ae",
   "metadata": {},
   "outputs": [],
   "source": [
    "encoder = dp.get_encoder(adata)"
   ]
  },
  {
   "cell_type": "code",
   "execution_count": 7,
   "id": "dee8edca-b63b-403e-8bdc-174d440bb0a8",
   "metadata": {},
   "outputs": [
    {
     "name": "stderr",
     "output_type": "stream",
     "text": [
      "/Users/fredrikstrom/Documents/KTH Dokument/scRNA_annotation-Thesis-/data_proc_methods.py:61: ImplicitModificationWarning: Setting element `.obsm['label']` of view, initializing view as actual.\n",
      "  adata.obsm['label'] = torch.LongTensor(encoder.transform(adata.obs['supercluster_term']))\n"
     ]
    }
   ],
   "source": [
    "aloader = dp.create_annloader(adata, encoder)"
   ]
  },
  {
   "cell_type": "code",
   "execution_count": 13,
   "id": "b966dc14-f29f-46e8-84c9-d78ca54abd14",
   "metadata": {},
   "outputs": [],
   "source": [
    "bdata = dp.load_data('subchunk1_2.h5ad')"
   ]
  },
  {
   "cell_type": "code",
   "execution_count": 6,
   "id": "91ea8a89-7826-4bd6-b694-fd78e0931798",
   "metadata": {},
   "outputs": [],
   "source": [
    "bloader = dp.create_annloader(bdata)"
   ]
  },
  {
   "cell_type": "code",
   "execution_count": 60,
   "id": "26278107-3638-4f6c-ba42-c9f85c4d7bd3",
   "metadata": {},
   "outputs": [
    {
     "name": "stdout",
     "output_type": "stream",
     "text": [
      "WARNING: adata.X seems to be already log-transformed.\n"
     ]
    }
   ],
   "source": [
    "gdata = dp.load_data('nonneuron_jorstad.h5ad', gene_location = 'feature_name')"
   ]
  },
  {
   "cell_type": "code",
   "execution_count": null,
   "id": "12944ef1-0651-4c9e-ad8e-ed421db31b14",
   "metadata": {},
   "outputs": [],
   "source": [
    "fdata,_ = dp.load_data('subchunk1_3.h5ad')"
   ]
  },
  {
   "cell_type": "code",
   "execution_count": null,
   "id": "bf793ef4-bed3-4b73-a06c-4a375626edd3",
   "metadata": {},
   "outputs": [],
   "source": [
    "floader = dp.create_annloader(fdata)"
   ]
  },
  {
   "cell_type": "code",
   "execution_count": 49,
   "id": "f9ae5d3b-2ac2-42fe-94c4-f726734d4b3f",
   "metadata": {},
   "outputs": [],
   "source": [
    "skippidibapp = model.BasicNeuralNetwork(adata.var['Gene'].values,adata.obs['supercluster_term'].cat.categories, layer_dims = [512, 1024, 1024, 1024, 512], lr = 0.0025)"
   ]
  },
  {
   "cell_type": "code",
   "execution_count": 9,
   "id": "6e79b03d-81fe-44f5-8be5-f278c7f6552d",
   "metadata": {},
   "outputs": [],
   "source": [
    "nn_model = model.ResidualNeuralNetwork(adata.var['Gene'].values,adata.obs['supercluster_term'].cat.categories, layer_dims = [512, 512, 512], lr = 0.0025)"
   ]
  },
  {
   "cell_type": "markdown",
   "id": "bf348c60-c9c1-4811-b096-f41366fd32e5",
   "metadata": {},
   "source": [
    "### Train model (multiple chunks from brain) "
   ]
  },
  {
   "cell_type": "code",
   "execution_count": 43,
   "id": "be607e04-9870-4744-ae78-9e776cad2087",
   "metadata": {},
   "outputs": [
    {
     "ename": "KeyboardInterrupt",
     "evalue": "",
     "output_type": "error",
     "traceback": [
      "\u001b[0;31m---------------------------------------------------------------------------\u001b[0m",
      "\u001b[0;31mKeyboardInterrupt\u001b[0m                         Traceback (most recent call last)",
      "Cell \u001b[0;32mIn[43], line 1\u001b[0m\n\u001b[0;32m----> 1\u001b[0m model\u001b[38;5;241m.\u001b[39mtrain(aloader,nn_model,label_type\u001b[38;5;241m=\u001b[39m\u001b[38;5;124m'\u001b[39m\u001b[38;5;124msc\u001b[39m\u001b[38;5;124m'\u001b[39m,epochs\u001b[38;5;241m=\u001b[39m\u001b[38;5;241m9\u001b[39m)\n",
      "File \u001b[0;32m~/Documents/KTH Dokument/scRNA_annotation-Thesis-/model.py:23\u001b[0m, in \u001b[0;36mtrain\u001b[0;34m(dataloader, model, label_type, epochs, start_epoch)\u001b[0m\n\u001b[1;32m     21\u001b[0m     criterion \u001b[38;5;241m=\u001b[39m nn\u001b[38;5;241m.\u001b[39mNLLLoss()\n\u001b[1;32m     22\u001b[0m \u001b[38;5;28;01mfor\u001b[39;00m epoch \u001b[38;5;129;01min\u001b[39;00m \u001b[38;5;28mrange\u001b[39m(start_epoch,epochs):\n\u001b[0;32m---> 23\u001b[0m     loss \u001b[38;5;241m=\u001b[39m train_epoch(dataloader\u001b[38;5;241m=\u001b[39mdataloader,model\u001b[38;5;241m=\u001b[39mmodel,label_type\u001b[38;5;241m=\u001b[39mlabel_type,optimizer\u001b[38;5;241m=\u001b[39moptimizer,criterion\u001b[38;5;241m=\u001b[39mcriterion)\n\u001b[1;32m     24\u001b[0m     \u001b[38;5;28mprint\u001b[39m(\u001b[38;5;124mf\u001b[39m\u001b[38;5;124m'\u001b[39m\u001b[38;5;124mEpoch:\u001b[39m\u001b[38;5;132;01m{\u001b[39;00mepoch\u001b[38;5;241m+\u001b[39m\u001b[38;5;241m1\u001b[39m\u001b[38;5;132;01m}\u001b[39;00m\u001b[38;5;124m, Loss:\u001b[39m\u001b[38;5;132;01m{\u001b[39;00mloss\u001b[38;5;132;01m:\u001b[39;00m\u001b[38;5;124m.4f\u001b[39m\u001b[38;5;132;01m}\u001b[39;00m\u001b[38;5;124m'\u001b[39m)\n\u001b[1;32m     25\u001b[0m model\u001b[38;5;241m.\u001b[39meval()\n",
      "File \u001b[0;32m~/Documents/KTH Dokument/scRNA_annotation-Thesis-/model.py:37\u001b[0m, in \u001b[0;36mtrain_epoch\u001b[0;34m(dataloader, model, label_type, optimizer, criterion)\u001b[0m\n\u001b[1;32m     35\u001b[0m     loss \u001b[38;5;241m=\u001b[39m criterion(pred,label)\n\u001b[1;32m     36\u001b[0m     optimizer\u001b[38;5;241m.\u001b[39mzero_grad()\n\u001b[0;32m---> 37\u001b[0m     loss\u001b[38;5;241m.\u001b[39mbackward()\n\u001b[1;32m     38\u001b[0m     optimizer\u001b[38;5;241m.\u001b[39mstep()\n\u001b[1;32m     39\u001b[0m \u001b[38;5;28;01mreturn\u001b[39;00m loss\u001b[38;5;241m.\u001b[39mitem()\n",
      "File \u001b[0;32m~/anaconda3/envs/scRNA/lib/python3.11/site-packages/torch/_tensor.py:522\u001b[0m, in \u001b[0;36mTensor.backward\u001b[0;34m(self, gradient, retain_graph, create_graph, inputs)\u001b[0m\n\u001b[1;32m    512\u001b[0m \u001b[38;5;28;01mif\u001b[39;00m has_torch_function_unary(\u001b[38;5;28mself\u001b[39m):\n\u001b[1;32m    513\u001b[0m     \u001b[38;5;28;01mreturn\u001b[39;00m handle_torch_function(\n\u001b[1;32m    514\u001b[0m         Tensor\u001b[38;5;241m.\u001b[39mbackward,\n\u001b[1;32m    515\u001b[0m         (\u001b[38;5;28mself\u001b[39m,),\n\u001b[0;32m   (...)\u001b[0m\n\u001b[1;32m    520\u001b[0m         inputs\u001b[38;5;241m=\u001b[39minputs,\n\u001b[1;32m    521\u001b[0m     )\n\u001b[0;32m--> 522\u001b[0m torch\u001b[38;5;241m.\u001b[39mautograd\u001b[38;5;241m.\u001b[39mbackward(\n\u001b[1;32m    523\u001b[0m     \u001b[38;5;28mself\u001b[39m, gradient, retain_graph, create_graph, inputs\u001b[38;5;241m=\u001b[39minputs\n\u001b[1;32m    524\u001b[0m )\n",
      "File \u001b[0;32m~/anaconda3/envs/scRNA/lib/python3.11/site-packages/torch/autograd/__init__.py:266\u001b[0m, in \u001b[0;36mbackward\u001b[0;34m(tensors, grad_tensors, retain_graph, create_graph, grad_variables, inputs)\u001b[0m\n\u001b[1;32m    261\u001b[0m     retain_graph \u001b[38;5;241m=\u001b[39m create_graph\n\u001b[1;32m    263\u001b[0m \u001b[38;5;66;03m# The reason we repeat the same comment below is that\u001b[39;00m\n\u001b[1;32m    264\u001b[0m \u001b[38;5;66;03m# some Python versions print out the first line of a multi-line function\u001b[39;00m\n\u001b[1;32m    265\u001b[0m \u001b[38;5;66;03m# calls in the traceback and some print out the last line\u001b[39;00m\n\u001b[0;32m--> 266\u001b[0m Variable\u001b[38;5;241m.\u001b[39m_execution_engine\u001b[38;5;241m.\u001b[39mrun_backward(  \u001b[38;5;66;03m# Calls into the C++ engine to run the backward pass\u001b[39;00m\n\u001b[1;32m    267\u001b[0m     tensors,\n\u001b[1;32m    268\u001b[0m     grad_tensors_,\n\u001b[1;32m    269\u001b[0m     retain_graph,\n\u001b[1;32m    270\u001b[0m     create_graph,\n\u001b[1;32m    271\u001b[0m     inputs,\n\u001b[1;32m    272\u001b[0m     allow_unreachable\u001b[38;5;241m=\u001b[39m\u001b[38;5;28;01mTrue\u001b[39;00m,\n\u001b[1;32m    273\u001b[0m     accumulate_grad\u001b[38;5;241m=\u001b[39m\u001b[38;5;28;01mTrue\u001b[39;00m,\n\u001b[1;32m    274\u001b[0m )\n",
      "\u001b[0;31mKeyboardInterrupt\u001b[0m: "
     ]
    }
   ],
   "source": [
    "model.train(aloader,nn_model,label_type='sc',epochs=9)"
   ]
  },
  {
   "cell_type": "code",
   "execution_count": 50,
   "id": "315b09ff-a896-41ef-bf72-d21dfe3e24c2",
   "metadata": {},
   "outputs": [
    {
     "name": "stderr",
     "output_type": "stream",
     "text": [
      "/Users/fredrikstrom/anaconda3/envs/scRNA/lib/python3.11/site-packages/torch/nn/modules/module.py:1511: UserWarning: Implicit dimension choice for log_softmax has been deprecated. Change the call to include dim=X as an argument.\n",
      "  return self._call_impl(*args, **kwargs)\n"
     ]
    },
    {
     "name": "stdout",
     "output_type": "stream",
     "text": [
      "Epoch:1, Loss:0.1148\n",
      "Epoch:2, Loss:0.0172\n",
      "Epoch:3, Loss:0.0092\n",
      "Epoch:4, Loss:0.0062\n",
      "Epoch:5, Loss:0.0006\n",
      "Epoch:6, Loss:0.0014\n",
      "Epoch:7, Loss:0.0205\n",
      "Epoch:8, Loss:0.0005\n",
      "Epoch:9, Loss:0.0002\n"
     ]
    }
   ],
   "source": [
    "model.train(aloader,skippidibapp,label_type='sc',epochs=9)"
   ]
  },
  {
   "cell_type": "code",
   "execution_count": null,
   "id": "b06d059e-80d5-456d-ac9a-fba1b3a10ced",
   "metadata": {},
   "outputs": [],
   "source": [
    "model.train_nn(bloader,encoder,nn_model,label_type='sc',epochs=5)"
   ]
  },
  {
   "cell_type": "code",
   "execution_count": null,
   "id": "f10e5639-a6d0-4e89-9f85-bfe1ed7b6602",
   "metadata": {},
   "outputs": [],
   "source": [
    "model.train_nn(floader,encoder,nn_model,label_type='sc',epochs=5)"
   ]
  },
  {
   "cell_type": "markdown",
   "id": "c293bbfe-eac1-4d42-9d53-0e7eaf93f699",
   "metadata": {},
   "source": [
    "### Align test data and test the models accuracy "
   ]
  },
  {
   "cell_type": "code",
   "execution_count": 24,
   "id": "dd7cfd9b-95a7-4e8d-a39d-bee3d9c320b4",
   "metadata": {},
   "outputs": [],
   "source": [
    "cdata = dp.load_data('Thalamic_Complex_RNA.h5ad')"
   ]
  },
  {
   "cell_type": "code",
   "execution_count": 25,
   "id": "0382a8f8-031f-4089-a425-13149337c541",
   "metadata": {},
   "outputs": [],
   "source": [
    "map = dp.map_genes(adata.var['Gene'].values, cdata.var['Gene'].values)"
   ]
  },
  {
   "cell_type": "code",
   "execution_count": 62,
   "id": "01ab5a97-b049-4332-b2f4-7d8703ddb1c5",
   "metadata": {},
   "outputs": [],
   "source": [
    "map_2 = dp.map_genes(adata.var['Gene'].values, gdata.var['feature_name'].values)"
   ]
  },
  {
   "cell_type": "code",
   "execution_count": 63,
   "id": "302a573b-34d7-4d6f-9d8a-7d172289bbc2",
   "metadata": {},
   "outputs": [
    {
     "data": {
      "text/plain": [
       "array([[0., 0., 0., 0., 0., 0., 0., 0., 0., 0., 0., 0., 0., 0., 0., 0.,\n",
       "        0., 0., 0., 0.],\n",
       "       [0., 0., 0., 0., 0., 0., 0., 0., 0., 0., 0., 0., 0., 0., 0., 0.,\n",
       "        0., 0., 0., 0.],\n",
       "       [0., 0., 0., 0., 0., 0., 0., 0., 0., 0., 0., 0., 0., 0., 0., 0.,\n",
       "        0., 0., 0., 0.],\n",
       "       [0., 0., 0., 0., 0., 0., 0., 0., 0., 0., 0., 0., 0., 0., 0., 0.,\n",
       "        0., 0., 0., 0.],\n",
       "       [0., 0., 0., 0., 0., 0., 0., 0., 0., 0., 0., 0., 0., 0., 0., 0.,\n",
       "        0., 0., 0., 0.],\n",
       "       [0., 0., 0., 0., 0., 0., 0., 0., 0., 0., 0., 0., 0., 0., 0., 0.,\n",
       "        0., 0., 0., 0.],\n",
       "       [0., 0., 0., 0., 0., 0., 0., 0., 0., 0., 0., 0., 0., 0., 0., 0.,\n",
       "        0., 0., 0., 0.],\n",
       "       [0., 0., 0., 0., 0., 0., 0., 0., 0., 0., 0., 0., 0., 0., 0., 0.,\n",
       "        0., 0., 0., 0.],\n",
       "       [0., 0., 0., 0., 0., 0., 0., 0., 0., 0., 0., 0., 0., 0., 0., 0.,\n",
       "        0., 0., 0., 0.],\n",
       "       [0., 0., 0., 0., 0., 0., 0., 0., 0., 0., 0., 0., 0., 0., 0., 0.,\n",
       "        0., 0., 0., 0.],\n",
       "       [0., 0., 0., 0., 0., 0., 0., 0., 0., 0., 0., 0., 0., 0., 0., 0.,\n",
       "        0., 0., 0., 0.],\n",
       "       [0., 0., 0., 0., 0., 0., 0., 0., 0., 0., 0., 0., 0., 0., 0., 0.,\n",
       "        0., 0., 0., 0.],\n",
       "       [0., 0., 0., 0., 0., 0., 0., 0., 0., 0., 0., 0., 0., 0., 0., 0.,\n",
       "        0., 0., 0., 0.],\n",
       "       [0., 0., 0., 0., 0., 0., 0., 0., 0., 0., 0., 0., 0., 0., 0., 0.,\n",
       "        0., 0., 0., 0.],\n",
       "       [0., 0., 0., 0., 0., 0., 0., 0., 0., 0., 0., 0., 0., 0., 0., 0.,\n",
       "        0., 0., 0., 0.],\n",
       "       [0., 0., 0., 0., 0., 0., 0., 0., 0., 0., 0., 0., 0., 0., 0., 0.,\n",
       "        0., 0., 0., 0.],\n",
       "       [0., 0., 0., 0., 0., 0., 0., 0., 0., 0., 0., 0., 0., 0., 0., 0.,\n",
       "        0., 0., 0., 0.],\n",
       "       [0., 0., 0., 0., 0., 0., 0., 0., 0., 0., 0., 0., 0., 0., 0., 0.,\n",
       "        0., 0., 0., 0.],\n",
       "       [0., 0., 0., 0., 0., 0., 0., 0., 0., 0., 0., 0., 0., 0., 0., 0.,\n",
       "        0., 0., 0., 0.],\n",
       "       [0., 0., 0., 0., 0., 0., 0., 0., 0., 0., 0., 0., 0., 0., 0., 0.,\n",
       "        0., 0., 0., 0.]])"
      ]
     },
     "execution_count": 63,
     "metadata": {},
     "output_type": "execute_result"
    }
   ],
   "source": [
    "map_2[0:20,0:20].toarray()"
   ]
  },
  {
   "cell_type": "code",
   "execution_count": 26,
   "id": "c008bb17-24b9-4514-997e-47d232a32973",
   "metadata": {},
   "outputs": [
    {
     "name": "stderr",
     "output_type": "stream",
     "text": [
      "/var/folders/6k/n1rxygz93j770tq1p431m1kw0000gn/T/ipykernel_72094/4016871610.py:1: ImplicitModificationWarning: Setting element `.obsm['aligned']` of view, initializing view as actual.\n",
      "  cdata.obsm['aligned'] = dp.align(map,cdata.X)\n"
     ]
    }
   ],
   "source": [
    "cdata.obsm['aligned'] = dp.align(map,cdata.X)"
   ]
  },
  {
   "cell_type": "code",
   "execution_count": 64,
   "id": "d0b88f21-d735-486a-b02f-4f3a4dbd64c3",
   "metadata": {},
   "outputs": [
    {
     "name": "stderr",
     "output_type": "stream",
     "text": [
      "/var/folders/6k/n1rxygz93j770tq1p431m1kw0000gn/T/ipykernel_72094/47279449.py:1: ImplicitModificationWarning: Setting element `.obsm['aligned']` of view, initializing view as actual.\n",
      "  gdata.obsm['aligned'] = dp.align(map_2,gdata.X)\n"
     ]
    }
   ],
   "source": [
    "gdata.obsm['aligned'] = dp.align(map_2,gdata.X)"
   ]
  },
  {
   "cell_type": "code",
   "execution_count": null,
   "id": "3aefdb54-cb06-4cac-898f-88652e94cc6c",
   "metadata": {},
   "outputs": [],
   "source": [
    "g_pred = encoder.inverse_transform(skippidibapp.forward(torch.FloatTensor(gdata.obsm['aligned'].todense())).detach().argmax(dim=1).numpy())"
   ]
  },
  {
   "cell_type": "code",
   "execution_count": 51,
   "id": "d7a2ac51-3d05-4348-abf5-a8df12fc1320",
   "metadata": {},
   "outputs": [],
   "source": [
    "b_pred = encoder.inverse_transform(skippidibapp.forward(torch.FloatTensor(bdata.X.todense())).detach().argmax(dim=1).numpy())"
   ]
  },
  {
   "cell_type": "code",
   "execution_count": 53,
   "id": "d96c9271-fa7b-4ee8-b8a9-37b3c50dcbab",
   "metadata": {},
   "outputs": [
    {
     "name": "stderr",
     "output_type": "stream",
     "text": [
      "/Users/fredrikstrom/anaconda3/envs/scRNA/lib/python3.11/site-packages/torch/nn/modules/module.py:1511: UserWarning: Implicit dimension choice for log_softmax has been deprecated. Change the call to include dim=X as an argument.\n",
      "  return self._call_impl(*args, **kwargs)\n"
     ]
    }
   ],
   "source": [
    "c_pred = encoder.inverse_transform(skippidibapp.forward(torch.FloatTensor(cdata.obsm['aligned'].todense())).detach().argmax(dim=1).numpy())"
   ]
  },
  {
   "cell_type": "code",
   "execution_count": 54,
   "id": "d2d6b9de-0982-438e-b66f-a5fd911d1890",
   "metadata": {},
   "outputs": [
    {
     "data": {
      "text/plain": [
       "0.9670613404153295"
      ]
     },
     "execution_count": 54,
     "metadata": {},
     "output_type": "execute_result"
    }
   ],
   "source": [
    "accuracy_score(y_pred=c_pred,y_true=cdata.obs['supercluster_term'].values)"
   ]
  },
  {
   "cell_type": "code",
   "execution_count": 52,
   "id": "c04fe55a-d88f-4767-b1e1-e06d98d63328",
   "metadata": {},
   "outputs": [
    {
     "data": {
      "text/plain": [
       "0.9917131663302862"
      ]
     },
     "execution_count": 52,
     "metadata": {},
     "output_type": "execute_result"
    }
   ],
   "source": [
    "accuracy_score(y_pred=b_pred,y_true=bdata.obs['supercluster_term'].values)"
   ]
  },
  {
   "cell_type": "code",
   "execution_count": null,
   "id": "4d7ebe02-88b3-4932-95f4-f96260407386",
   "metadata": {},
   "outputs": [],
   "source": [
    "accuracy_score(y_pred=g_pred,y_true=gdata.obs['supercluster_term'].values)"
   ]
  }
 ],
 "metadata": {
  "kernelspec": {
   "display_name": "Python 3 (ipykernel)",
   "language": "python",
   "name": "python3"
  },
  "language_info": {
   "codemirror_mode": {
    "name": "ipython",
    "version": 3
   },
   "file_extension": ".py",
   "mimetype": "text/x-python",
   "name": "python",
   "nbconvert_exporter": "python",
   "pygments_lexer": "ipython3",
   "version": "3.11.8"
  }
 },
 "nbformat": 4,
 "nbformat_minor": 5
}
