{
 "cells": [
  {
   "cell_type": "markdown",
   "id": "503ad6de-a167-4470-940f-11b1519d2933",
   "metadata": {},
   "source": [
    "### Imports "
   ]
  },
  {
   "cell_type": "code",
   "execution_count": 1,
   "id": "2d465a3c-f2ed-4186-90b0-6bff98a44fe1",
   "metadata": {},
   "outputs": [],
   "source": [
    "import model \n",
    "import data_proc_methods as dp\n",
    "from importlib import reload \n",
    "import scanpy as sc\n",
    "import torch\n",
    "from sklearn.metrics import accuracy_score\n",
    "from collections import Counter"
   ]
  },
  {
   "cell_type": "code",
   "execution_count": 8,
   "id": "8fcd686f-fcc7-4283-8ccd-6ee884a28f54",
   "metadata": {},
   "outputs": [],
   "source": [
    "import numpy as np"
   ]
  },
  {
   "cell_type": "code",
   "execution_count": 12,
   "id": "ccd1cf38-d16b-4933-b4f9-6f0d3fe57ed4",
   "metadata": {},
   "outputs": [],
   "source": [
    "from importlib import reload"
   ]
  },
  {
   "cell_type": "code",
   "execution_count": 15,
   "id": "a93a8642-a03d-46d3-803d-e4e7c03b4835",
   "metadata": {},
   "outputs": [
    {
     "data": {
      "text/plain": [
       "<module 'data_proc_methods' from '/Users/fredrikstrom/Documents/KTH Dokument/scRNA_annotation-Thesis-/data_proc_methods.py'>"
      ]
     },
     "execution_count": 15,
     "metadata": {},
     "output_type": "execute_result"
    }
   ],
   "source": [
    "reload(dp)"
   ]
  },
  {
   "cell_type": "markdown",
   "id": "de98ae35-8762-4d8f-8ed3-cf0148fabef0",
   "metadata": {},
   "source": [
    "### Load data "
   ]
  },
  {
   "cell_type": "code",
   "execution_count": 2,
   "id": "4733e1e7-3905-4410-b065-d9e4eb05f312",
   "metadata": {},
   "outputs": [],
   "source": [
    "adata,encoder = dp.load_data('subchunk1_1.h5ad')"
   ]
  },
  {
   "cell_type": "code",
   "execution_count": 3,
   "id": "dee8edca-b63b-403e-8bdc-174d440bb0a8",
   "metadata": {},
   "outputs": [],
   "source": [
    "aloader = dp.create_annloader(adata)"
   ]
  },
  {
   "cell_type": "code",
   "execution_count": 5,
   "id": "b966dc14-f29f-46e8-84c9-d78ca54abd14",
   "metadata": {},
   "outputs": [],
   "source": [
    "bdata,_ = dp.load_data('subchunk1_2.h5ad')"
   ]
  },
  {
   "cell_type": "code",
   "execution_count": 6,
   "id": "91ea8a89-7826-4bd6-b694-fd78e0931798",
   "metadata": {},
   "outputs": [],
   "source": [
    "bloader = dp.create_annloader(bdata)"
   ]
  },
  {
   "cell_type": "code",
   "execution_count": null,
   "id": "12944ef1-0651-4c9e-ad8e-ed421db31b14",
   "metadata": {},
   "outputs": [],
   "source": [
    "fdata,_ = dp.load_data('subchunk1_3.h5ad')"
   ]
  },
  {
   "cell_type": "code",
   "execution_count": null,
   "id": "bf793ef4-bed3-4b73-a06c-4a375626edd3",
   "metadata": {},
   "outputs": [],
   "source": [
    "floader = dp.create_annloader(fdata)"
   ]
  },
  {
   "cell_type": "code",
   "execution_count": 4,
   "id": "6e79b03d-81fe-44f5-8be5-f278c7f6552d",
   "metadata": {},
   "outputs": [],
   "source": [
    "nn_model = model.BasicNeuralNetwork(adata.var['Gene'].values,adata.obs['supercluster_term'].cat.categories)"
   ]
  },
  {
   "cell_type": "markdown",
   "id": "bf348c60-c9c1-4811-b096-f41366fd32e5",
   "metadata": {},
   "source": [
    "### Train model (multiple chunks from brain) "
   ]
  },
  {
   "cell_type": "code",
   "execution_count": 5,
   "id": "be607e04-9870-4744-ae78-9e776cad2087",
   "metadata": {},
   "outputs": [
    {
     "name": "stdout",
     "output_type": "stream",
     "text": [
      "Epoch:1, Loss:2.5271\n",
      "Epoch:2, Loss:2.4991\n",
      "Epoch:3, Loss:2.4947\n",
      "Epoch:4, Loss:2.4908\n",
      "Epoch:5, Loss:2.4892\n",
      "Epoch:6, Loss:2.4894\n",
      "Epoch:7, Loss:2.4901\n",
      "Epoch:8, Loss:2.4976\n",
      "Epoch:9, Loss:2.4887\n"
     ]
    }
   ],
   "source": [
    "model.train_nn(aloader,encoder,nn_model,label_type='sc',epochs=9)"
   ]
  },
  {
   "cell_type": "code",
   "execution_count": null,
   "id": "b06d059e-80d5-456d-ac9a-fba1b3a10ced",
   "metadata": {},
   "outputs": [],
   "source": [
    "model.train_nn(bloader,encoder,nn_model,label_type='sc',epochs=5)"
   ]
  },
  {
   "cell_type": "code",
   "execution_count": null,
   "id": "f10e5639-a6d0-4e89-9f85-bfe1ed7b6602",
   "metadata": {},
   "outputs": [],
   "source": [
    "model.train_nn(floader,encoder,nn_model,label_type='sc',epochs=5)"
   ]
  },
  {
   "cell_type": "markdown",
   "id": "c293bbfe-eac1-4d42-9d53-0e7eaf93f699",
   "metadata": {},
   "source": [
    "### Align test data and test the models accuracy "
   ]
  },
  {
   "cell_type": "code",
   "execution_count": 6,
   "id": "dd7cfd9b-95a7-4e8d-a39d-bee3d9c320b4",
   "metadata": {},
   "outputs": [],
   "source": [
    "cdata,_ = dp.load_data('Thalamic_Complex_RNA.h5ad')"
   ]
  },
  {
   "cell_type": "code",
   "execution_count": 16,
   "id": "0382a8f8-031f-4089-a425-13149337c541",
   "metadata": {},
   "outputs": [],
   "source": [
    "map = dp.map_genes(adata.var['Gene'].values, cdata.var['Gene'].values)"
   ]
  },
  {
   "cell_type": "code",
   "execution_count": 17,
   "id": "c008bb17-24b9-4514-997e-47d232a32973",
   "metadata": {},
   "outputs": [
    {
     "name": "stderr",
     "output_type": "stream",
     "text": [
      "/var/folders/6k/n1rxygz93j770tq1p431m1kw0000gn/T/ipykernel_59617/4016871610.py:1: ImplicitModificationWarning: Setting element `.obsm['aligned']` of view, initializing view as actual.\n",
      "  cdata.obsm['aligned'] = dp.align(map,cdata.X)\n"
     ]
    }
   ],
   "source": [
    "cdata.obsm['aligned'] = dp.align(map,cdata.X)"
   ]
  },
  {
   "cell_type": "code",
   "execution_count": 18,
   "id": "d96c9271-fa7b-4ee8-b8a9-37b3c50dcbab",
   "metadata": {},
   "outputs": [],
   "source": [
    "c_pred = encoder.inverse_transform(nn_model.forward(torch.FloatTensor(cdata.obsm['aligned'].todense())).detach().numpy())"
   ]
  },
  {
   "cell_type": "code",
   "execution_count": 19,
   "id": "c04fe55a-d88f-4767-b1e1-e06d98d63328",
   "metadata": {},
   "outputs": [
    {
     "data": {
      "text/plain": [
       "0.9476227361587547"
      ]
     },
     "execution_count": 19,
     "metadata": {},
     "output_type": "execute_result"
    }
   ],
   "source": [
    "accuracy_score(y_pred=c_pred,y_true=cdata.obs['supercluster_term'].values)"
   ]
  }
 ],
 "metadata": {
  "kernelspec": {
   "display_name": "Python 3 (ipykernel)",
   "language": "python",
   "name": "python3"
  },
  "language_info": {
   "codemirror_mode": {
    "name": "ipython",
    "version": 3
   },
   "file_extension": ".py",
   "mimetype": "text/x-python",
   "name": "python",
   "nbconvert_exporter": "python",
   "pygments_lexer": "ipython3",
   "version": "3.11.8"
  }
 },
 "nbformat": 4,
 "nbformat_minor": 5
}
